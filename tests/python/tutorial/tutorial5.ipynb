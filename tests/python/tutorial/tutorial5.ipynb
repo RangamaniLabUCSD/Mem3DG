{
 "cells": [
  {
   "attachments": {},
   "cell_type": "markdown",
   "metadata": {},
   "source": [
    "# PyMem3DG Tutorial 5 - Extended Applications 1: membrane heterogeneity\n",
    "`Cuncheng Zhu, Christopher T. Lee`\n",
    "\n",
    "This tutorial covers how `Mem3DG` prescribes membrane heterogeneity to model local membrane effect. In previous tutorials, we only simulate membrane with homogeneous composition and therefore constant membrane properties. However, in reality, most biological processes require local concentration of biological cues to drive more complex membrane response. For example, it has been suggested that local binding of Clathrin scaffolds the membrane to induce endocytosis. \n",
    "\n",
    "To demonstrate, as in tutorial 3, we will set up single boundary patch simulation. Please review if necessary. In tutorial 3, where the deformation is mainly driven by the homogeneous osmotic pressure. \n",
    "\n",
    "## Bending-driven budding\n",
    "This tutorial will model local scaffolding effect of clathrin assuming the scaffold induced nonzero spontaneous curvature and the scaffold is more rigid than the bare membrane."
   ]
  },
  {
   "cell_type": "code",
   "execution_count": null,
   "metadata": {},
   "outputs": [],
   "source": [
    "import pymem3dg as dg\n",
    "import pymem3dg.util as dg_util\n",
    "import pymem3dg.boilerplate as dgb\n",
    "from functools import partial\n",
    "from pathlib import Path\n",
    "\n",
    "hexFace, hexVertex = dg.getHexagon(radius = 1, subdivision = 4)\n",
    "\n",
    "p = dg.Parameters()\n",
    "p.tension.form = partial(\n",
    "    dgb.constantSurfaceTensionModel, tension = 1e-3)\n",
    "\n",
    "p.osmotic.form = partial(\n",
    "    dgb.constantOsmoticPressureModel, pressure = 0\n",
    ")\n",
    "p.boundary.shapeBoundaryCondition = \"fixed\""
   ]
  },
  {
   "attachments": {},
   "cell_type": "markdown",
   "metadata": {},
   "source": [
    "We have already seen the settings above in tutorial 3. To reiterate, we instantiate a hexagon patch mesh, enable all mesh mutation operation to ensure mesh quality, and apply a constant surface tension and zero osmotic pressure. \n",
    "\n",
    "Unlike the previous simulation, in this tutorial we want to prescribe a heterogeneity patch. The parametrization is done using the protein density $\\phi \\in [0,1]$. `protein0` is used to specify the constant protein distribution or initial protein distribution when we talk about protein dynamics in the next tutorial. There are several ways to initialize it. First, when given single scalar $\\phi^0$, it prescribes uniform distribution of $\\phi = \\phi^0$; second when given full vector ${\\phi^0_i}$ with the number of entries equals to the number of vertices, it prescribes elementwise distribution in the order of vertex indices; the third method, which is applied in the following example, is to utilize the geodesic distance computation. \n",
    "\n",
    "In this case, we will initialize `protein0` *= \\[$R_1$, $R_2$, $\\phi^{in}$, $\\phi^{out}$\\]* drawing geodesic ellipse with two principal radius $R_1$ and $R_2$ centered at one particular point `pt` of the surface, and then precribing protein density inside $\\phi^{in}$ and outside $\\phi^{out}$, as well the sharpness of transition `sharpness` across the phase separation. \n",
    "\n",
    "To specify `pt`, you could either specify in 2D or 3D such that it will find the cloest point on the surface to the embedded point in term of Euclidean distance. `isFloatVertex` option repetitively compute the surface point to find parametrized point on the surface rather than on particular mesh vertex if turned off. Please refer to the documentation for more implementational details "
   ]
  },
  {
   "cell_type": "code",
   "execution_count": null,
   "metadata": {},
   "outputs": [],
   "source": [
    "import numpy as np\n",
    "\n",
    "\n",
    "def notableVertexFinder(faces, vertex, geodesicDistance):\n",
    "    _ = (faces, geodesicDistance)  # Use unused to avoid linting issues\n",
    "    v = np.full(np.shape(vertex)[0], False)\n",
    "    # c = np.mean(vertex[:, :2])\n",
    "    d = np.linalg.norm(vertex[:, :2], axis=1)\n",
    "    v[np.argmin(d)] = True\n",
    "    return v\n",
    "\n",
    "p.point.prescribeNotableVertex = notableVertexFinder\n",
    "\n",
    "p.point.updateGeodesicsPeriod = 50\n",
    "p.point.updateNotableVertexPeriod = 100\n",
    "\n",
    "p.protein.prescribeProteinDensityDistribution = partial(\n",
    "    dgb.prescribeGeodesicPoteinDensityDistribution, radius=0.5, sharpness=20\n",
    ")\n",
    "\n",
    "\n",
    "p.bending.Kb = 8.22e-5\n",
    "p.bending.Kbc = 3 * 8.22e-5\n",
    "p.bending.H0c = 6\n"
   ]
  },
  {
   "attachments": {},
   "cell_type": "markdown",
   "metadata": {},
   "source": [
    "As protein density will affect the membrane property, we need to specify the constituitive relation. Currently, *Mem3DG* supports the heterogeneous bending rigidity and spontaneous curvature to model endocytic patch. The vertex-wise bending rigidity $\\kappa = K_b + K_{bc} ~\\phi$ with user-defined parameter `Kb` and `Kbc`. Similarly, the vertex-wise spontaneous curvature $H_0 = H_{0c} ~\\phi$ with user-defined `H0c`. In other words, in this particular setup, we coated the center patch with protein with preferred curvature of 6 $\\mu m^{-1}$ and the coated membrane with scaffolding is 4 times more rigid than the bare membrane."
   ]
  },
  {
   "cell_type": "code",
   "execution_count": null,
   "metadata": {},
   "outputs": [],
   "source": [
    "geometry = dg.Geometry(\n",
    "    faceMatrix=hexFace,\n",
    "    vertexMatrix=hexVertex,\n",
    ")\n",
    "\n",
    "g = dg.System(\n",
    "    geometry=geometry,\n",
    "    parameters=p,\n",
    ")\n",
    "\n",
    "g.meshProcessor.meshMutator.mutateMeshPeriod = 50\n",
    "g.meshProcessor.meshMutator.flipNonDelaunay = True\n",
    "g.meshProcessor.meshMutator.splitLarge = True\n",
    "g.meshProcessor.meshMutator.splitFat = True\n",
    "g.meshProcessor.meshMutator.splitSkinnyDelaunay = True\n",
    "g.meshProcessor.meshMutator.splitCurved = True\n",
    "g.meshProcessor.meshMutator.curvTol = 0.005\n",
    "g.meshProcessor.meshMutator.collapseSkinny = True\n",
    "g.meshProcessor.meshMutator.isShiftVertex = True\n",
    "g.initialize()"
   ]
  },
  {
   "attachments": {},
   "cell_type": "markdown",
   "metadata": {},
   "source": [
    "The initial configuration with the colormap showing the protein density is the following:\n",
    "\n",
    "<img src=\"output/tutorial5/phi.png\" width=\"450\" height=\"225\">\n",
    "\n",
    "where $\\phi = 1$ within the circular patch of radius 0.5 centered at \\[0, 0\\] and $\\phi = 0$ outside the patch.\n",
    "\n",
    "With `System` **g** initialized, the rest is just routinely carrying out the integrator such as the forward Euler method. One particular things to note is that we could specify the period of recomputing geodesics on surface mesh, as well as that of doing mesh processing to ensure mesh quality using integrator options `tUpdateGeodesics` and `tProcessMesh`, respectively. "
   ]
  },
  {
   "cell_type": "code",
   "execution_count": null,
   "metadata": {},
   "outputs": [],
   "source": [
    "outputDir = Path(\"output/tutorial5/Kb\")\n",
    "outputDir.mkdir(parents=True, exist_ok=True)\n",
    "\n",
    "fe = dg.Euler(system=g, \n",
    "                 characteristicTimeStep=0.05,\n",
    "                 totalTime=2000, \n",
    "                 savePeriod=100,\n",
    "                 tolerance=1e-9, \n",
    "                 outputDirectory=str(outputDir))\n",
    "fe.ifPrintToConsole = True\n",
    "fe.ifOutputTrajFile = True\n",
    "success = fe.integrate()"
   ]
  },
  {
   "cell_type": "code",
   "execution_count": null,
   "metadata": {},
   "outputs": [],
   "source": [
    "# import pymem3dg.visual as dg_vis\n",
    "# import polyscope as ps\n",
    "\n",
    "# dg_vis.animate(str(outputDir / \"traj.nc\"), meanCurvature = True)\n",
    "# ps.show()"
   ]
  },
  {
   "attachments": {},
   "cell_type": "markdown",
   "metadata": {},
   "source": [
    "The resultant budding trajectory snapshots at `T = 0, 10000, 15100, 18100 and 20000` with the colormap showing the bending force:\n",
    "\n",
    "<img src=\"output/tutorial5/Kb/screenshot_frame000000.png\" width=\"400\" height=\"200\">\n",
    "<img src=\"output/tutorial5/Kb/screenshot_frame000100.png\" width=\"400\" height=\"200\">\n",
    "<img src=\"output/tutorial5/Kb/screenshot_frame000151.png\" width=\"400\" height=\"200\">\n",
    "<img src=\"output/tutorial5/Kb/screenshot_frame000181.png\" width=\"400\" height=\"200\">\n",
    "<img src=\"output/tutorial5/Kb/screenshot_frame000200.png\" width=\"400\" height=\"200\">\n",
    "\n",
    "and a transparent visualization of of the mean curvature for `T = 20000`:\n",
    "\n",
    "<img src=\"output/tutorial5/Kb/H_final.png\" width=\"400\" height=\"200\">\n",
    "\n",
    "## Interfacial line tension driven budding \n",
    "Last example we computationally model the scaffolding mechanism where we assuming the coated membrane is significantly more rigid than bare membrane. In the following section, we could provides an alternative budding mechanism by introducing additional energy terms. The following study should also be treated as an blueprint for `Mem3DG` to grow and further accommodate more complex physics as we develop. Please refer to the detailed documentation or relevant publication for theoretical and implementation related explanations. \n",
    "\n",
    "The additional is the Dirichlet energy $E_d = \\frac{1}{2} \\int_{\\mathcal{M}} \\eta \\| \\nabla_{\\vec{\\theta}} \\phi \\|^2 dA$ with user-defined parameter `eta` to control the role of the energy to the system. Intuitively the energy penalize any non-smoothness of the protein distribution. Mechanically in our case with assumed phase separation, it will results in the so-called \"line tension\" that constrict the interface to form the neck area of membrane budding. Chemically when we consider protein dynamics later in the next tutorial, it will result in protein diffusion.  "
   ]
  },
  {
   "cell_type": "code",
   "execution_count": null,
   "metadata": {},
   "outputs": [],
   "source": [
    "p.dirichlet.eta = 5e-4\n",
    "p.bending.Kbc = 8.22e-5\n",
    "\n",
    "h = dg.System(geometry=geometry,\n",
    "    parameters=p,)\n",
    "\n",
    "h.meshProcessor.meshMutator.mutateMeshPeriod = 50\n",
    "h.meshProcessor.meshMutator.flipNonDelaunay = True\n",
    "h.meshProcessor.meshMutator.splitLarge = True\n",
    "h.meshProcessor.meshMutator.splitFat = True\n",
    "h.meshProcessor.meshMutator.splitSkinnyDelaunay = True\n",
    "h.meshProcessor.meshMutator.splitCurved = True\n",
    "h.meshProcessor.meshMutator.curvTol = 0.005\n",
    "h.meshProcessor.meshMutator.collapseSkinny = True\n",
    "h.meshProcessor.meshMutator.isShiftVertex = True\n",
    "h.initialize()\n",
    "\n",
    "outputDir = Path(\"output/tutorial5/eta/traj\")\n",
    "outputDir.mkdir(parents=True, exist_ok=True)\n",
    "\n",
    "fe = dg.Euler(h, 0.1, 2000, 100, 3e-5, str(outputDir))\n",
    "fe.ifPrintToConsole = True\n",
    "fe.ifOutputTrajFile = True\n",
    "success = fe.integrate()\n"
   ]
  },
  {
   "attachments": {},
   "cell_type": "markdown",
   "metadata": {},
   "source": [
    "The resultant budding trajectory snapshots at `T = 0, 2000, 5000, 6000 and 7300` with the colormap showing the line tension force:\n",
    "\n",
    "<img src=\"output/tutorial5/eta/screenshot_frame000000.png\" width=\"400\" height=\"200\">\n",
    "<img src=\"output/tutorial5/eta/screenshot_frame000020.png\" width=\"400\" height=\"200\">\n",
    "<img src=\"output/tutorial5/eta/screenshot_frame000050.png\" width=\"400\" height=\"200\">\n",
    "<img src=\"output/tutorial5/eta/screenshot_frame000060.png\" width=\"400\" height=\"200\">\n",
    "<img src=\"output/tutorial5/eta/screenshot_frame000073.png\" width=\"400\" height=\"200\">\n",
    "\n",
    "and a transparent visualization of of the mean curvature for `T = 7300`:\n",
    "\n",
    "<img src=\"output/tutorial5/eta/H_73.png\" width=\"400\" height=\"200\">"
   ]
  }
 ],
 "metadata": {
  "kernelspec": {
   "display_name": "Python 3.10.5 ('pymem3dg')",
   "language": "python",
   "name": "python3"
  },
  "language_info": {
   "codemirror_mode": {
    "name": "ipython",
    "version": 3
   },
   "file_extension": ".py",
   "mimetype": "text/x-python",
   "name": "python",
   "nbconvert_exporter": "python",
   "pygments_lexer": "ipython3",
   "version": "3.10.9"
  },
  "orig_nbformat": 2,
  "vscode": {
   "interpreter": {
    "hash": "f3a6181206ca5e963636b0bacef5e7dd6e095289a05f91c07e5deb7fefc1deb1"
   }
  }
 },
 "nbformat": 4,
 "nbformat_minor": 2
}
