{
 "cells": [
  {
   "cell_type": "markdown",
   "metadata": {},
   "source": [
    "# PyMem3DG Tutorial 1 - The Very Basic\n",
    "`Cuncheng Zhu, Christopher T. Lee`\n",
    "\n",
    "This tutorial provides a brief example for setting up a membrane simulation using PyMem3DG. The extensive documentations is hosted at https://rangamanilabucsd.github.io/Mem3DG/."
   ]
  },
  {
   "cell_type": "code",
   "execution_count": null,
   "metadata": {},
   "outputs": [],
   "source": [
    "import pymem3dg as dg\n",
    "import pymem3dg.boilerplate as dgb\n",
    "from functools import partial\n",
    "from pathlib import Path"
   ]
  },
  {
   "cell_type": "markdown",
   "metadata": {},
   "source": [
    "## Mesh initialization\n",
    "PyMem3DG currently provide functions to generate simple meshes, as well as API to read $\\texttt{.ply}$ files. For example, we could generate icosphere for closed membrane simualation and existing meshes based on parametrized ellipsoids. "
   ]
  },
  {
   "cell_type": "code",
   "execution_count": null,
   "metadata": {},
   "outputs": [],
   "source": [
    "icoFace, icoVertex = dg.getIcosphere(1, 3)\n",
    "oblate = \"../sample_meshes/oblate.ply\"\n",
    "prolate = \"../sample_meshes/prolate.ply\""
   ]
  },
  {
   "attachments": {},
   "cell_type": "markdown",
   "metadata": {},
   "source": [
    "## Instantiate the $\\texttt{System}$:  $\\texttt{Parameters}$ and  $\\texttt{Options}$ \n",
    "\n",
    "Specification of the struct `Parameters` is largely user-defined. `Parameters` is the structured into sub-structs. For example, the parameters for bending of `Parameters p` is `p.bending`. Please refer to the documentation for detailed explanation of various entries. Below we shows the simulation setup for a homogeneous membrane undergoing osmotic shrinkage, which is a classic solution of the *shape equation* that results in the biconcave shape similar to the red blood cell. Because of the simplicity of the setup, we only specify essential physical quantities such as the bending rigidity, stretching modulus and bulk modulus, assuming the default  and omitting the majority of the parameters. \n",
    "\n",
    "The trajectory of the simulations will be solely determined by the initial condition (initial geometry) and parameters. In this tutorial, we will see how initial geometry affects the results. "
   ]
  },
  {
   "cell_type": "code",
   "execution_count": null,
   "metadata": {},
   "outputs": [],
   "source": [
    "p = dg.Parameters()\n",
    "\n",
    "p.bending.Kbc = 8.22e-5\n",
    "\n",
    "p.tension.form = partial(\n",
    "    dgb.preferredAreaSurfaceTensionModel, modulus=0.1, preferredArea=12.4866\n",
    ")\n",
    "p.osmotic.form = partial(\n",
    "    dgb.preferredVolumeOsmoticPressureModel,\n",
    "    preferredVolume=0.7 * 3.14 * 4 / 3,\n",
    "    reservoirVolume=0,\n",
    "    strength=0.02,\n",
    ")"
   ]
  },
  {
   "attachments": {},
   "cell_type": "markdown",
   "metadata": {},
   "source": [
    "## Integration and optimization\n",
    "\n",
    "PyMem3DG provides various evolvers to integrate the membrane dynamics or find mechanical/chemical equilibrium as the energy minimizer. Please refer to the documentation for details and guidelines. For simplicity, the forward euler method, mathematically equivalent to steepest descent method for optimization is used to integrate the three systems. The following integration is pre-runned. Uncomment `integrate()` to rerun them.\n",
    "\n",
    "We first to integrate the oblate shape and we expect to form biconcave shape at the equilibrium. To visualize the result using polyscope, please refer to the documentation and a dedicated tutorial for visualization.\n"
   ]
  },
  {
   "cell_type": "code",
   "execution_count": null,
   "metadata": {},
   "outputs": [],
   "source": [
    "geo = dg.Geometry(oblate)\n",
    "\n",
    "outputDir = Path(\"output/tutorial1/biconcave\")\n",
    "outputDir.mkdir(parents=True, exist_ok=True)\n",
    "\n",
    "g = dg.System(geometry=geo, parameters = p)\n",
    "g.initialize()\n",
    "\n",
    "fe = dg.Euler(system = g, characteristicTimeStep = 2, \n",
    "              totalTime = 100000, savePeriod = 10000, \n",
    "              tolerance = 1e-11, outputDirectory = str(outputDir))\n",
    "# Uncomment to print intermediate statistics\n",
    "fe.ifPrintToConsole = True\n",
    "fe.ifOutputTrajFile = True\n",
    "success = fe.integrate() \n"
   ]
  },
  {
   "attachments": {},
   "cell_type": "markdown",
   "metadata": {},
   "source": [
    "Getting ahead, we can use Polycope (https://polyscope.run/py/) to visualize the trajectory. The detail will be provide in Tutorial 4. PyMem3DG provides a wrapper function to setup the visualization for inspecting the trajectory.\n",
    "\n",
    "The below example is for purposes of easy illustration. We do not recommend running polyscope from within a jupyter notebook as it generates a separate window. "
   ]
  },
  {
   "cell_type": "code",
   "execution_count": null,
   "metadata": {},
   "outputs": [],
   "source": [
    "import pymem3dg.visual as dg_vis\n",
    "import polyscope as ps\n",
    "# # Uncomment the next two lines to run visualization\n",
    "# dg_vis.animate(str(outputDir / \"traj.nc\"), meanCurvature = True)\n",
    "# ps.show()"
   ]
  },
  {
   "cell_type": "markdown",
   "metadata": {},
   "source": [
    "Similarly, we could have the same procedure with initial condition of prolate shape."
   ]
  },
  {
   "cell_type": "code",
   "execution_count": null,
   "metadata": {},
   "outputs": [],
   "source": [
    "outputDir = Path(\"output/tutorial1/dumbbell\")\n",
    "outputDir.mkdir(parents=True, exist_ok=True)\n",
    "\n",
    "geo = dg.Geometry(prolate)\n",
    "\n",
    "g = dg.System(geometry=geo, parameters = p)\n",
    "g.initialize()\n",
    "\n",
    "fe = dg.Euler(system = g, characteristicTimeStep = 2, \n",
    "              totalTime = 100000, savePeriod = 10000, \n",
    "              tolerance = 1e-12, outputDirectory = str(outputDir))\n",
    "\n",
    "fe.ifPrintToConsole = True\n",
    "fe.ifOutputTrajFile = True\n",
    "\n",
    "success = fe.integrate() "
   ]
  },
  {
   "cell_type": "code",
   "execution_count": null,
   "metadata": {},
   "outputs": [],
   "source": [
    "# Uncomment the next two lines to run visualization\n",
    "# dg_vis.animate(str(outputDir / \"traj.nc\"), meanCurvature = True)\n",
    "# ps.show()"
   ]
  },
  {
   "cell_type": "markdown",
   "metadata": {},
   "source": [
    "We can also do this on an generated icosphere. However, because of the symmetry of a icosphere, it appears that we need large osmotic pressure to kick start the deformation. To change the set up of $\\texttt{System}$, it is generally safer practice to reinstantiate a new $\\texttt{System}$ object. However, because of the simplicity of current setup, the rest of the system does not have complex dependency on attribute changes. Therefore we directly modify the underlying attribute $K_v$ and increase it by fivefold."
   ]
  },
  {
   "cell_type": "code",
   "execution_count": null,
   "metadata": {},
   "outputs": [],
   "source": [
    "##! THIS EXAMPLE CAN TAKE A FEW MINUTES\n",
    "outputDir = Path(\"output/tutorial1/star\")\n",
    "outputDir.mkdir(parents=True, exist_ok=True)\n",
    "\n",
    "import pymem3dg.util as dg_util\n",
    "icoVertex = dg_util.sphericalHarmonicsPerturbation(icoVertex, 5, 6, 0.1)\n",
    "\n",
    "p.osmotic.form = partial(\n",
    "    dgb.preferredVolumeOsmoticPressureModel,\n",
    "    preferredVolume=0.7 * 3.14 * 4 / 3,\n",
    "    reservoirVolume=0,\n",
    "    strength=0.1,\n",
    ")\n",
    "\n",
    "geo = dg.Geometry(icoFace, icoVertex)\n",
    "\n",
    "g = dg.System(geometry=geo, parameters=p)\n",
    "g.initialize()\n",
    "\n",
    "# Note that the tolerance is set to zero to run to total time or...\n",
    "fe = dg.Euler(system = g, characteristicTimeStep = 2, \n",
    "              totalTime = 100000, savePeriod = 10000, \n",
    "              tolerance = 0, outputDirectory = str(outputDir))\n",
    "\n",
    "\n",
    "fe.ifPrintToConsole = True\n",
    "fe.ifOutputTrajFile = True\n",
    "fe.integrate()"
   ]
  },
  {
   "cell_type": "code",
   "execution_count": null,
   "metadata": {},
   "outputs": [],
   "source": [
    "# Uncomment the next two lines to run visualization\n",
    "# dg_vis.animate(str(outputDir / \"traj.nc\"), meanCurvature = True)\n",
    "# ps.show()"
   ]
  },
  {
   "cell_type": "markdown",
   "metadata": {},
   "source": [
    "Notices that the simulation is not ran until the equilibrium but up to $T = 70000$. It is interrupted intentionally due to corrupted mesh quality.\n",
    "\n",
    "Notice that initial icosphere does not have constant mean curvature due to the existence of irregular points. The initial deformation comforms to the discretization defect. With the high curvature deformation, mesh quality deteriorates. To cope with the problem, please proceed to the next tutorial, where we introduce mesh regularization and mutation for adaptive meshing."
   ]
  }
 ],
 "metadata": {
  "kernelspec": {
   "display_name": "Python 3.10.5 ('pymem3dg')",
   "language": "python",
   "name": "python3"
  },
  "language_info": {
   "codemirror_mode": {
    "name": "ipython",
    "version": 3
   },
   "file_extension": ".py",
   "mimetype": "text/x-python",
   "name": "python",
   "nbconvert_exporter": "python",
   "pygments_lexer": "ipython3",
   "version": "3.10.9"
  },
  "vscode": {
   "interpreter": {
    "hash": "f3a6181206ca5e963636b0bacef5e7dd6e095289a05f91c07e5deb7fefc1deb1"
   }
  }
 },
 "nbformat": 4,
 "nbformat_minor": 2
}
