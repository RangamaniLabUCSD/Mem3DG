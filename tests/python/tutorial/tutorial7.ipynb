{
 "cells": [
  {
   "attachments": {},
   "cell_type": "markdown",
   "metadata": {},
   "source": [
    "# PyMem3DG Tutorial 7 - Unwrapped integrator\n",
    "\n",
    "It is possible to write an integrator directly in Python such that there is more control over its behavior. It could also be useful if you want to modify certain parameters/data during simulation. Here is a snippet on how to write a simple forward Euler integrator. "
   ]
  },
  {
   "cell_type": "code",
   "execution_count": null,
   "metadata": {},
   "outputs": [],
   "source": [
    "import pymem3dg as dg\n",
    "import pymem3dg.boilerplate as dgb\n",
    "from functools import partial\n",
    "from pathlib import Path\n",
    "\n",
    "\n",
    "oblate = \"../sample_meshes/oblate.ply\"\n",
    "p = dg.Parameters()\n",
    "\n",
    "p.bending.Kbc = 8.22e-5\n",
    "\n",
    "p.tension.form = partial(\n",
    "    dgb.preferredAreaSurfaceTensionModel,\n",
    "    modulus=0.1,\n",
    "    preferredArea=12.4866,\n",
    "    reservoirArea=0,\n",
    ")\n",
    "p.osmotic.form = partial(\n",
    "    dgb.preferredVolumeOsmoticPressureModel,\n",
    "    strength=0.02,\n",
    "    preferredVolume=0.7 * 3.14 * 4 / 3,\n",
    "    reservoirVolume=0,\n",
    ")\n"
   ]
  },
  {
   "cell_type": "code",
   "execution_count": null,
   "metadata": {},
   "outputs": [],
   "source": [
    "\n",
    "geometry = dg.Geometry(inputMesh=oblate)\n",
    "\n",
    "g = dg.System(geometry=geometry, parameters=p)\n",
    "g.initialize()\n",
    "\n",
    "outputDir = Path(\"output/tutorial7\")\n",
    "outputDir.mkdir(parents=True, exist_ok=True)\n",
    "\n",
    "fe = dg.Euler(system=g, characteristicTimeStep=0.1,\n",
    "              tolerance=1e-12, outputDirectory=str(outputDir))\n",
    "\n",
    "frame = 0\n",
    "lastSave = g.time\n",
    "lastProcessMesh = g.time\n",
    "initTime = g.time\n",
    "tSave = 2000 * fe.characteristicTimeStep\n",
    "processMeshPeriod = 30\n",
    "\n",
    "\n",
    "# Note the constructor without complete data for integration length and save period will have the integrate function disabled\n",
    "try:\n",
    "    fe.integrate()\n",
    "except RuntimeError as e:\n",
    "    print(\"Integrate function is deleted!\", e)\n",
    "\n",
    "\n",
    "# We can write the main integration loop in python instead\n",
    "fe.createMutableNetcdfFile(isContinue=False)\n",
    "while frame < 10:\n",
    "    # print(frame)\n",
    "    # compute forces/energy, and test for fe.EXIT\n",
    "    fe.status()\n",
    "\n",
    "    # saveData\n",
    "    if ((g.time - lastSave > tSave) | (g.time == initTime) | fe.EXIT):\n",
    "        lastSave = g.time\n",
    "        fe.saveData(ifOutputTrajFile=True,\n",
    "                    ifOutputMeshFile=False, ifPrintToConsole=True)\n",
    "        frame = frame + 1\n",
    "\n",
    "    if (fe.EXIT):\n",
    "        break\n",
    "\n",
    "    # mesh processing\n",
    "    if (g.time - lastProcessMesh > (processMeshPeriod * fe.timeStep)):\n",
    "        lastProcessMesh = g.time\n",
    "        g.mutateMesh(1)\n",
    "        g.updateConfigurations()\n",
    "\n",
    "    # time stepping and update variables\n",
    "    if (g.time == lastProcessMesh):\n",
    "        g.time = g.time + 1e-10 * fe.characteristicTimeStep\n",
    "    else:\n",
    "        fe.march()\n",
    "        # print(g.time)\n",
    "\n",
    "fe.closeMutableNetcdfFile()\n"
   ]
  },
  {
   "cell_type": "code",
   "execution_count": null,
   "metadata": {},
   "outputs": [],
   "source": [
    "# import pymem3dg.visual as dg_vis\n",
    "# import polyscope as ps\n",
    "# dg_vis.animate(outputDir+\"/traj.nc\", meanCurvature = True)\n",
    "# ps.show()"
   ]
  }
 ],
 "metadata": {
  "kernelspec": {
   "display_name": "Python 3.10.5 ('pymem3dg')",
   "language": "python",
   "name": "python3"
  },
  "language_info": {
   "codemirror_mode": {
    "name": "ipython",
    "version": 3
   },
   "file_extension": ".py",
   "mimetype": "text/x-python",
   "name": "python",
   "nbconvert_exporter": "python",
   "pygments_lexer": "ipython3",
   "version": "3.10.9"
  },
  "orig_nbformat": 4,
  "vscode": {
   "interpreter": {
    "hash": "f3a6181206ca5e963636b0bacef5e7dd6e095289a05f91c07e5deb7fefc1deb1"
   }
  }
 },
 "nbformat": 4,
 "nbformat_minor": 2
}
