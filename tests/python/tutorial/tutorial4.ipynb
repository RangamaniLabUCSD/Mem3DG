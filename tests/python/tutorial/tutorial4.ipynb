{
 "cells": [
  {
   "attachments": {},
   "cell_type": "markdown",
   "metadata": {},
   "source": [
    "# PyMem3DG Tutorial 4 - Visualize Output\n",
    "`Cuncheng Zhu, Christopher T. Lee`\n",
    "\n",
    "Mem3DG output the trajectory data using a combination of NetCDF and $\\texttt{.ply}$ file. There are many ways to read the data. This tutorial provides a minimal set of functions from Python NetCDF and PyMem3DG to extract the data and visualize using Polyscope. "
   ]
  },
  {
   "cell_type": "code",
   "execution_count": null,
   "metadata": {},
   "outputs": [],
   "source": [
    "import pymem3dg as dg\n",
    "import pymem3dg.visual as dg_vis\n",
    "import pymem3dg.read as dg_read\n",
    "import pymem3dg.read.netcdf as dg_nc\n",
    "\n",
    "import pymem3dg.util as dg_util\n",
    "import pymem3dg.boilerplate as dgb\n",
    "from functools import partial\n",
    "from pathlib import Path\n",
    "\n",
    "\n",
    "import numpy as np\n",
    "import polyscope as ps\n",
    "import netCDF4 as nc\n",
    "import matplotlib.pyplot as plt"
   ]
  },
  {
   "attachments": {},
   "cell_type": "markdown",
   "metadata": {},
   "source": [
    "## NetCDF\n",
    "Python netCDF4 library has conveient functions to extract a $\\texttt{.nc}$ file. Here we provide an example of reading the file using data generated from tutorial 1."
   ]
  },
  {
   "cell_type": "code",
   "execution_count": null,
   "metadata": {},
   "outputs": [],
   "source": [
    "trajFile = \"output/tutorial1/biconcave/traj.nc\"\n",
    "\n",
    "p = dg.Parameters()\n",
    "p.bending.Kbc = 8.22e-5\n",
    "p.tension.form = partial(\n",
    "    dgb.preferredAreaSurfaceTensionModel, modulus=0.1, preferredArea=12.4866\n",
    ")\n",
    "p.osmotic.form = partial(\n",
    "    dgb.preferredVolumeOsmoticPressureModel,\n",
    "    preferredVolume=0.7 * 3.14 * 4 / 3,\n",
    "    reservoirVolume=0,\n",
    "    strength=0.02,\n",
    ")\n",
    "\n",
    "\n",
    "frameLim = (0, dg_nc.sizeOf(trajFile))\n",
    "frameNum = frameLim[1] - frameLim[0]\n",
    "time = np.zeros(frameNum)\n",
    "kineticEnergy = np.zeros(frameNum)\n",
    "potentialEnergy = np.zeros(frameNum)\n",
    "externalWork = np.zeros(frameNum)\n",
    "totalEnergy = np.zeros(frameNum)\n",
    "volume = np.zeros(frameNum)\n",
    "\n",
    "\n",
    "for frame in range(frameNum):\n",
    "    geo = dg.Geometry(trajFile, frame)\n",
    "    system = dg.System(\n",
    "        geometry=geo, trajFile=trajFile, startingFrame=frame, parameters=p\n",
    "    )\n",
    "    system.initialize()\n",
    "    time[frame] = system.time\n",
    "    volume[frame] = geo.getVolume()\n",
    "    system.computeTotalEnergy()\n",
    "    energy = system.getEnergy()\n",
    "    kineticEnergy[frame] = energy.kineticEnergy\n",
    "    potentialEnergy[frame] = energy.potentialEnergy\n",
    "    if frame != 0:\n",
    "        externalWork[frame] = externalWork[frame - 1] + system.computeIntegratedPower(\n",
    "            time[frame] - time[frame - 1]\n",
    "        )\n",
    "totalEnergy = potentialEnergy + kineticEnergy - externalWork\n",
    "reducedVolume = volume / (3.14 * 4 / 3)\n",
    "\n",
    "# plotting\n",
    "fig, ax1 = plt.subplots()\n",
    "color = \"tab:red\"\n",
    "ax1.set_xlabel(\"time\")\n",
    "ax1.set_ylabel(\"energy\", color=color)\n",
    "ax1.plot(time, totalEnergy, color=color)\n",
    "ax1.tick_params(axis=\"y\", labelcolor=color)\n",
    "\n",
    "ax2 = ax1.twinx()\n",
    "color = \"tab:blue\"\n",
    "ax2.set_ylabel(\"reduced volume\", color=color)\n",
    "ax2.plot(time, reducedVolume, color=color)\n",
    "ax2.tick_params(axis=\"y\", labelcolor=color)\n",
    "\n",
    "fig.tight_layout()\n",
    "plt.show()\n"
   ]
  },
  {
   "attachments": {},
   "cell_type": "markdown",
   "metadata": {},
   "source": [
    "Unlike the $\\texttt{.ply}$ file that we will cover below, NetCDF file covers the full trajectory. Therefore, the first index of the resultant matrix is always the frame index.\n",
    "\n",
    "## $\\texttt{.ply}$\n",
    "Mem3DG provide some wrapper functions of a C++ library Happly to help extracting data from $\\texttt{.ply}$ file."
   ]
  },
  {
   "cell_type": "code",
   "execution_count": null,
   "metadata": {},
   "outputs": [],
   "source": [
    "ply = 'output/tutorial4/rbc.ply'\n",
    "face, vertex = dg_read.mesh.getFaceAndVertexMatrix(ply)\n",
    "print(dg_read.mesh.getDataElementName(ply))\n",
    "print(dg_read.mesh.getDataPropertyName(ply, 'vertex'))\n",
    "H = dg_read.mesh.getData(ply, 'vertex', 'mean_curvature')\n",
    "Fb = dg_read.mesh.getData(ply, 'vertex', 'bending_force')"
   ]
  },
  {
   "attachments": {},
   "cell_type": "markdown",
   "metadata": {},
   "source": [
    "## Visualize using Polyscope\n",
    "Details and functionalities of Polyscope is located at https://polyscope.run/py/"
   ]
  },
  {
   "cell_type": "code",
   "execution_count": null,
   "metadata": {},
   "outputs": [],
   "source": [
    "ps.init()\n",
    "ps_mesh = ps.register_surface_mesh(\"RBC\", vertex, face)\n",
    "ps_mesh.add_scalar_quantity(\"mean_curvature\", H, enabled=True)\n",
    "ps_mesh.add_scalar_quantity(\"bending_force\", Fb, enabled=True, vminmax=(-1e-5, 1e-5))\n",
    "ps.set_up_dir(\"z_up\")\n",
    "ps.show()"
   ]
  },
  {
   "cell_type": "code",
   "execution_count": null,
   "metadata": {},
   "outputs": [],
   "source": []
  }
 ],
 "metadata": {
  "kernelspec": {
   "display_name": "Python 3.10.5 ('pymem3dg')",
   "language": "python",
   "name": "python3"
  },
  "language_info": {
   "codemirror_mode": {
    "name": "ipython",
    "version": 3
   },
   "file_extension": ".py",
   "mimetype": "text/x-python",
   "name": "python",
   "nbconvert_exporter": "python",
   "pygments_lexer": "ipython3",
   "version": "3.10.9"
  },
  "orig_nbformat": 2,
  "vscode": {
   "interpreter": {
    "hash": "f3a6181206ca5e963636b0bacef5e7dd6e095289a05f91c07e5deb7fefc1deb1"
   }
  }
 },
 "nbformat": 4,
 "nbformat_minor": 2
}
