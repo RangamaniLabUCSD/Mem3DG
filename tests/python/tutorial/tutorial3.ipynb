{
 "cells": [
  {
   "attachments": {},
   "cell_type": "markdown",
   "metadata": {},
   "source": [
    "# PyMem3DG Tutorial 3 - Open Boundary Simulation and Masking\n",
    "`Cuncheng Zhu, Christopher T. Lee`\n",
    "\n",
    "This tutorial covers the functionality of PyMem3DG on dealing with boundary condition. In previous tutorials, we only simulate closed membrane and therefore no addditional complexity on the boundary. Though in reality, lipid membrane is almost always closed, it is beneficial to only simulate certain region of the membrane to save computational cost. \n",
    "\n",
    "To demonstrate, we will set up a single boundary system on a hexagon patch and conduct study on the effect of osmotic pressure similar to previous tutorial, but instead of simulating the full vesicle, we zoom in at a small region on the surface. "
   ]
  },
  {
   "cell_type": "code",
   "execution_count": null,
   "metadata": {},
   "outputs": [],
   "source": [
    "import pymem3dg as dg\n",
    "import pymem3dg.util as dg_util\n",
    "import pymem3dg.boilerplate as dgb\n",
    "from functools import partial\n",
    "from pathlib import Path"
   ]
  },
  {
   "attachments": {},
   "cell_type": "markdown",
   "metadata": {},
   "source": [
    "There is a pregenerated patch mesh in `/sample_meshes` folder that has circular boundary, but we could also use a built-in function to generate a hexgon mesh and subdivide them to get enough resolution, like this:\n",
    "\n",
    "<img src=\"output/tutorial3/screenshot_frame000000.png\" width=\"400\" height=\"200\">\n"
   ]
  },
  {
   "cell_type": "code",
   "execution_count": null,
   "metadata": {},
   "outputs": [],
   "source": [
    "hexFace, hexVertex = dg.getHexagon(radius = 1, subdivision = 4)\n",
    "geo = dg.Geometry(hexFace, hexVertex)\n",
    "\n",
    "p = dg.Parameters()\n",
    "p.bending.Kbc = 8.22e-5 \n",
    "p.tension.form = partial(\n",
    "    dgb.preferredAreaSurfaceTensionModel, modulus=0.1, preferredArea=103, reservoirArea = 100\n",
    ")\n",
    "p.osmotic.form = partial(\n",
    "    dgb.preferredVolumeOsmoticPressureModel,\n",
    "    preferredVolume=5,\n",
    "    reservoirVolume=4,\n",
    "    strength=0.1,\n",
    ")"
   ]
  },
  {
   "attachments": {},
   "cell_type": "markdown",
   "metadata": {},
   "source": [
    "This is the same setup as in tutorial 2. However, we will have addition parameter to provide information at and outside the boundary. Again, we are simulating *part* of close membrane structure! \n",
    "\n",
    "Outside of boundary, $V_{res}$ and $A_{res}$ represents the remaining volume and surface area reservoir such that the reference volume $\\bar{V} = V_{res}$ and $\\bar{A} = A_{res} + A_{polygon}$, where $A_{polygon}$ is total polygon area formed by the boundary loop polygon.\n",
    "\n",
    "At the boundary, we need to specify the boundary condition, the option includes $\\texttt{\"none\"}$, $\\texttt{\"fixed\"}$, $\\texttt{\"pin\"}$ and $\\texttt{\"roller\"}$. We will demonstrate how it affects the simulations in the following examples and please refer to the documentation for specfics and implementation if necessary.\n",
    "\n",
    "## Fixed boundary \n",
    "The fixed boundary condition fix both the position of the boundary elements, but also their curvature."
   ]
  },
  {
   "cell_type": "code",
   "execution_count": null,
   "metadata": {},
   "outputs": [],
   "source": [
    "p.boundary.shapeBoundaryCondition = \"fixed\"\n",
    "\n",
    "g = dg.System(geometry=geo, parameters=p)\n",
    "g.initialize()\n",
    "\n",
    "outputDir = Path(\"output/tutorial3/fixed\")\n",
    "outputDir.mkdir(parents=True, exist_ok=True)\n",
    "\n",
    "fe = dg.Euler(g, 1, 10000, 1000, 3e-10, str(outputDir))\n",
    "fe.ifPrintToConsole = True\n",
    "fe.ifOutputTrajFile = True\n",
    "fe.integrate()"
   ]
  },
  {
   "cell_type": "code",
   "execution_count": null,
   "metadata": {},
   "outputs": [],
   "source": [
    "import pymem3dg.visual as dg_vis\n",
    "import polyscope as ps\n",
    "# dg_vis.animate(str(outputDir / \"traj.nc\"), meanCurvature = True)\n",
    "# ps.show()"
   ]
  },
  {
   "attachments": {},
   "cell_type": "markdown",
   "metadata": {},
   "source": [
    "At the final time $T = 10000$, resisting the surface tension, the osmotic pressure push the membrane outward, forming some bump.\n",
    "\n",
    "## Pin boundary\n",
    "The pin boundary condition only fix the position of the boundary, but not the curvature."
   ]
  },
  {
   "cell_type": "code",
   "execution_count": null,
   "metadata": {},
   "outputs": [],
   "source": [
    "p.boundary.shapeBoundaryCondition = \"pin\"\n",
    "\n",
    "g = dg.System(geometry=geo, parameters=p)\n",
    "g.initialize()\n",
    "\n",
    "outputDir = Path(\"output/tutorial3/pin\")\n",
    "outputDir.mkdir(parents=True, exist_ok=True)\n",
    "\n",
    "fe = dg.Euler(g, 1, 10000, 1000, 3e-10, str(outputDir))\n",
    "\n",
    "fe.ifPrintToConsole = True\n",
    "fe.ifOutputTrajFile = True\n",
    "success = fe.integrate()"
   ]
  },
  {
   "attachments": {},
   "cell_type": "markdown",
   "metadata": {},
   "source": [
    "At the same final time $T = 10000$, the boundary is no longer flat.\n",
    "\n",
    "## Roller boundary"
   ]
  },
  {
   "cell_type": "code",
   "execution_count": null,
   "metadata": {},
   "outputs": [],
   "source": [
    "p.boundary.shapeBoundaryCondition = \"roller\"\n",
    "\n",
    "g = dg.System(geometry=geo, parameters=p)\n",
    "g.meshProcessor.meshMutator.collapseSkinny = True\n",
    "g.meshProcessor.meshMutator.collapseSmall = True\n",
    "g.initialize()\n",
    "\n",
    "outputDir = Path(\"output/tutorial3/roller\")\n",
    "outputDir.mkdir(parents=True, exist_ok=True)\n",
    "\n",
    "fe = dg.Euler(g, 1, 10000, 1000, 3e-10, str(outputDir))\n",
    "\n",
    "fe.ifPrintToConsole = True\n",
    "fe.ifOutputTrajFile = True\n",
    "fe.integrate()"
   ]
  },
  {
   "attachments": {},
   "cell_type": "markdown",
   "metadata": {},
   "source": [
    "In this case, we get shape with shrunken rounded corners.\n",
    "\n",
    "The roller boundary condition constrains movements in certain direction, at this case in the vertical direction but allowing sliding over the horizontal plane. \n",
    "\n",
    "You might notice that we add edge collapse to this set of simulation. This is due to the fact where rounded boundary can create skinny triangles at the corner that should be eliminated. \n",
    "\n",
    "## Mask\n",
    "Under the hood, the boundary condition is implemented using mask. In addition to boundary mask, we could also mask vertices based on particular neighborhood, which applies to both open and closed mesh. The specifics about how to specify these vertices in PyMem3DG will be covered in anthother tutorial, but just for completeness and demonstration, we could have some area remaining flat by doing "
   ]
  },
  {
   "cell_type": "code",
   "execution_count": null,
   "metadata": {},
   "outputs": [],
   "source": [
    "p.boundary.shapeBoundaryCondition = \"fixed\"\n",
    "p.point.pt = [1,1]\n",
    "p.variation.geodesicMask = 1.3\n",
    "\n",
    "g = dg.System(geometry=geo, parameters=p)\n",
    "g.initialize()\n",
    "\n",
    "outputDir = Path(\"output/tutorial3/mask\")\n",
    "outputDir.mkdir(parents=True, exist_ok=True)\n",
    "\n",
    "fe = dg.Euler(g, 1, 10000, 1000, 3e-10, str(outputDir))\n",
    "\n",
    "fe.ifPrintToConsole = True\n",
    "fe.ifOutputTrajFile = True\n",
    "fe.integrate()"
   ]
  },
  {
   "attachments": {},
   "cell_type": "markdown",
   "metadata": {},
   "source": [
    "In this case, the result the mesh will only budge in a small section around `pt` in radius of 1.3."
   ]
  },
  {
   "attachments": {},
   "cell_type": "markdown",
   "metadata": {},
   "source": [
    "## Additional Notes:\n",
    "### $A_{polygon}$\n",
    "**Please note that in current version of PyMem3DG, $A_{polygon}$ is only well-defined when the boundary loop remains on the same plane!** If not, the area value will depend on how the underlying algorithm divide the boundary polygon, which is not fully predictable. \n",
    "### Reference mesh\n",
    "The reasoning on specifying reference mesh remain the same on open boundary mesh vs close surface mesh. In most cases, self referencing is sufficient. One notable difference between close mesh and open mesh is the reference area, which will remain as long as boundary position is fixed (a.k.a fixed and pin boundary). Additional reference mesh may be needed when doing roller boundary condition when for example, continuing an interrupted simulation. \n"
   ]
  },
  {
   "attachments": {},
   "cell_type": "markdown",
   "metadata": {},
   "source": [
    "### Constant osmotic pressure & surface tension \n",
    "Instead of following the argument of having a membrane reservoir, maybe it is more explicit to specify the surface tension and pressure directly! This is particularly true when membrane reservoir is so large that local deformation is too unnoticeable that approximately it is just applying some constant value of pressure and tension. To do this explicitly, you can replace the functional forms of the tension and osmotic pressure calculation. Helper functions are provided in the boilerplates."
   ]
  },
  {
   "cell_type": "code",
   "execution_count": null,
   "metadata": {},
   "outputs": [],
   "source": [
    "p.tension.form = partial(\n",
    "    dgb.constantSurfaceTensionModel, tension = 1e-4)\n",
    "\n",
    "p.osmotic.form = partial(\n",
    "    dgb.constantOsmoticPressureModel, pressure = 1e-3\n",
    ")"
   ]
  }
 ],
 "metadata": {
  "kernelspec": {
   "display_name": "Python 3.10.5 ('pymem3dg')",
   "language": "python",
   "name": "python3"
  },
  "language_info": {
   "codemirror_mode": {
    "name": "ipython",
    "version": 3
   },
   "file_extension": ".py",
   "mimetype": "text/x-python",
   "name": "python",
   "nbconvert_exporter": "python",
   "pygments_lexer": "ipython3",
   "version": "3.10.9"
  },
  "orig_nbformat": 2,
  "vscode": {
   "interpreter": {
    "hash": "f3a6181206ca5e963636b0bacef5e7dd6e095289a05f91c07e5deb7fefc1deb1"
   }
  }
 },
 "nbformat": 4,
 "nbformat_minor": 2
}
